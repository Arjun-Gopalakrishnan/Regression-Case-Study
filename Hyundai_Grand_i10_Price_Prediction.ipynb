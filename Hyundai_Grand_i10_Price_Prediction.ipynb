{
 "cells": [
  {
   "cell_type": "code",
   "execution_count": 1,
   "id": "7c12b0f1-53a9-4155-93f8-0c4615206606",
   "metadata": {},
   "outputs": [],
   "source": [
    "import pandas as pd"
   ]
  },
  {
   "cell_type": "code",
   "execution_count": 5,
   "id": "76999cf5-3d25-49f5-89ca-1c9f7d68e531",
   "metadata": {},
   "outputs": [],
   "source": [
    "car_age=pd.read_csv(\"car_age_price.csv\")"
   ]
  },
  {
   "cell_type": "code",
   "execution_count": 7,
   "id": "3bcf9515-ebbc-4f5b-9f90-dd82e7d41ed2",
   "metadata": {},
   "outputs": [
    {
     "data": {
      "text/html": [
       "<div>\n",
       "<style scoped>\n",
       "    .dataframe tbody tr th:only-of-type {\n",
       "        vertical-align: middle;\n",
       "    }\n",
       "\n",
       "    .dataframe tbody tr th {\n",
       "        vertical-align: top;\n",
       "    }\n",
       "\n",
       "    .dataframe thead th {\n",
       "        text-align: right;\n",
       "    }\n",
       "</style>\n",
       "<table border=\"1\" class=\"dataframe\">\n",
       "  <thead>\n",
       "    <tr style=\"text-align: right;\">\n",
       "      <th></th>\n",
       "      <th>Year</th>\n",
       "      <th>Price</th>\n",
       "    </tr>\n",
       "  </thead>\n",
       "  <tbody>\n",
       "    <tr>\n",
       "      <th>0</th>\n",
       "      <td>2018</td>\n",
       "      <td>465000</td>\n",
       "    </tr>\n",
       "    <tr>\n",
       "      <th>1</th>\n",
       "      <td>2019</td>\n",
       "      <td>755000</td>\n",
       "    </tr>\n",
       "    <tr>\n",
       "      <th>2</th>\n",
       "      <td>2019</td>\n",
       "      <td>700000</td>\n",
       "    </tr>\n",
       "    <tr>\n",
       "      <th>3</th>\n",
       "      <td>2018</td>\n",
       "      <td>465000</td>\n",
       "    </tr>\n",
       "    <tr>\n",
       "      <th>4</th>\n",
       "      <td>2018</td>\n",
       "      <td>465000</td>\n",
       "    </tr>\n",
       "    <tr>\n",
       "      <th>...</th>\n",
       "      <td>...</td>\n",
       "      <td>...</td>\n",
       "    </tr>\n",
       "    <tr>\n",
       "      <th>107</th>\n",
       "      <td>2016</td>\n",
       "      <td>375000</td>\n",
       "    </tr>\n",
       "    <tr>\n",
       "      <th>108</th>\n",
       "      <td>2014</td>\n",
       "      <td>300000</td>\n",
       "    </tr>\n",
       "    <tr>\n",
       "      <th>109</th>\n",
       "      <td>2015</td>\n",
       "      <td>425000</td>\n",
       "    </tr>\n",
       "    <tr>\n",
       "      <th>110</th>\n",
       "      <td>2016</td>\n",
       "      <td>420000</td>\n",
       "    </tr>\n",
       "    <tr>\n",
       "      <th>111</th>\n",
       "      <td>2015</td>\n",
       "      <td>425000</td>\n",
       "    </tr>\n",
       "  </tbody>\n",
       "</table>\n",
       "<p>112 rows × 2 columns</p>\n",
       "</div>"
      ],
      "text/plain": [
       "     Year   Price\n",
       "0    2018  465000\n",
       "1    2019  755000\n",
       "2    2019  700000\n",
       "3    2018  465000\n",
       "4    2018  465000\n",
       "..    ...     ...\n",
       "107  2016  375000\n",
       "108  2014  300000\n",
       "109  2015  425000\n",
       "110  2016  420000\n",
       "111  2015  425000\n",
       "\n",
       "[112 rows x 2 columns]"
      ]
     },
     "execution_count": 7,
     "metadata": {},
     "output_type": "execute_result"
    }
   ],
   "source": [
    "car_age"
   ]
  },
  {
   "cell_type": "code",
   "execution_count": 9,
   "id": "b9bd85e0-4f13-4830-83ba-c0a3ddcd1f0c",
   "metadata": {},
   "outputs": [
    {
     "name": "stdout",
     "output_type": "stream",
     "text": [
      "   Year   Price\n",
      "0  2018  465000\n",
      "1  2019  755000\n",
      "2  2019  700000\n",
      "3  2018  465000\n",
      "4  2018  465000\n"
     ]
    }
   ],
   "source": [
    "print(car_age.head())"
   ]
  },
  {
   "cell_type": "code",
   "execution_count": null,
   "id": "2bc24a41-7cf2-40ff-86e9-b84a1ea269d9",
   "metadata": {},
   "outputs": [],
   "source": []
  },
  {
   "cell_type": "code",
   "execution_count": 12,
   "id": "cb497e4b-bc47-483e-b2a6-6a2dd7a06b06",
   "metadata": {},
   "outputs": [],
   "source": [
    "import matplotlib.pyplot as plt"
   ]
  },
  {
   "cell_type": "code",
   "execution_count": 14,
   "id": "f28439dd-4a50-4b3a-ab58-c5ac3f0a9d53",
   "metadata": {},
   "outputs": [
    {
     "name": "stdout",
     "output_type": "stream",
     "text": [
      "              Year          Price\n",
      "count   112.000000     112.000000\n",
      "mean   2016.669643  483866.044643\n",
      "std       1.629616   91217.450533\n",
      "min    2013.000000  300000.000000\n",
      "25%    2015.000000  423750.000000\n",
      "50%    2017.000000  500000.000000\n",
      "75%    2017.000000  550000.000000\n",
      "max    2020.000000  755000.000000\n"
     ]
    }
   ],
   "source": [
    "print(car_age.describe())"
   ]
  },
  {
   "cell_type": "code",
   "execution_count": 30,
   "id": "5b7666a5-acef-4b50-87c4-9189b298d74d",
   "metadata": {},
   "outputs": [
    {
     "data": {
      "image/png": "[encoded data removed]",
      "text/plain": [
       "<Figure size 640x480 with 1 Axes>"
      ]
     },
     "metadata": {},
     "output_type": "display_data"
    }
   ],
   "source": [
    "plt.scatter(car_age['Year'],car_age['Price'])\n",
    "plt.xlabel('Year')\n",
    "plt.ylabel(' Price (INR) ')\n",
    "plt.title(\" Year vs Price \")\n",
    "plt.show()"
   ]
  },
  {
   "cell_type": "code",
   "execution_count": null,
   "id": "902cd82d-854c-4e65-adb2-67de5198aa06",
   "metadata": {},
   "outputs": [],
   "source": []
  },
  {
   "cell_type": "code",
   "execution_count": null,
   "id": "4e37e557-1afa-4c6f-964c-bf73dab8c6c2",
   "metadata": {},
   "outputs": [],
   "source": [
    "#Train Liner Regression Model"
   ]
  },
  {
   "cell_type": "code",
   "execution_count": 55,
   "id": "a35918a9-6a4e-4fd1-91f1-b7757c5217c8",
   "metadata": {},
   "outputs": [],
   "source": [
    "from sklearn.model_selection import train_test_split\n",
    "\n",
    "X = car_age[['Year']]\n",
    "y = car_age['Price']   \n",
    "\n",
    "\n",
    "X_train, X_test, y_train, y_test = train_test_split(X, y, test_size=0.2, random_state=42)"
   ]
  },
  {
   "cell_type": "code",
   "execution_count": null,
   "id": "a56cb4b6-97c9-4749-9baa-265c755bf4d9",
   "metadata": {},
   "outputs": [],
   "source": []
  },
  {
   "cell_type": "code",
   "execution_count": 51,
   "id": "0394cf8a-4f19-412d-9a87-5fd20298af58",
   "metadata": {},
   "outputs": [],
   "source": [
    "#Linear Regression"
   ]
  },
  {
   "cell_type": "code",
   "execution_count": 57,
   "id": "e7ad1f90-54b9-485d-b253-2c38da4e75c9",
   "metadata": {},
   "outputs": [
    {
     "name": "stdout",
     "output_type": "stream",
     "text": [
      "Linear Regression:\n",
      "MSE: 4326906256.829671\n",
      "R² Score: 0.36759313425902185\n"
     ]
    }
   ],
   "source": [
    "from sklearn.linear_model import LinearRegression\n",
    "from sklearn.metrics import mean_squared_error, r2_score\n",
    "\n",
    "# Train model\n",
    "lr = LinearRegression()\n",
    "lr.fit(X_train, y_train)\n",
    "\n",
    "y_pred_lr = lr.predict(X_test)\n",
    "\n",
    "\n",
    "print(\"Linear Regression:\")\n",
    "print(f\"MSE: {mean_squared_error(y_test, y_pred_lr)}\")\n",
    "print(f\"R² Score: {r2_score(y_test, y_pred_lr)}\")"
   ]
  },
  {
   "cell_type": "code",
   "execution_count": null,
   "id": "00fc9950-dfd4-4a7b-a501-3bcb11d23c34",
   "metadata": {},
   "outputs": [],
   "source": []
  },
  {
   "cell_type": "code",
   "execution_count": 64,
   "id": "ee2fb2ba-f336-4115-8602-1d3dc12997e6",
   "metadata": {},
   "outputs": [],
   "source": [
    "#Train Lasso Regression Model"
   ]
  },
  {
   "cell_type": "code",
   "execution_count": 68,
   "id": "0567a0bd-702c-4523-aa08-6fa82c812e5e",
   "metadata": {},
   "outputs": [
    {
     "name": "stdout",
     "output_type": "stream",
     "text": [
      "Lasso Regression R² Score: 0.3675999284778446\n"
     ]
    }
   ],
   "source": [
    "from sklearn.linear_model import Lasso\n",
    "\n",
    "lasso = Lasso(alpha=1.0)\n",
    "lasso.fit(X_train, y_train)\n",
    "\n",
    "print(\"Lasso Regression R² Score:\", lasso.score(X_test, y_test))"
   ]
  },
  {
   "cell_type": "code",
   "execution_count": null,
   "id": "edb859cf-c6bb-4668-90b9-dffd882e85d6",
   "metadata": {},
   "outputs": [],
   "source": []
  },
  {
   "cell_type": "code",
   "execution_count": 71,
   "id": "b8544b32-06ca-417e-8041-2383b95f7c88",
   "metadata": {},
   "outputs": [],
   "source": [
    "#Compare Models & Predict 2022 Price"
   ]
  },
  {
   "cell_type": "code",
   "execution_count": 73,
   "id": "d1aec26b-0ebd-4be2-bfe6-d24580319ea7",
   "metadata": {},
   "outputs": [
    {
     "name": "stdout",
     "output_type": "stream",
     "text": [
      "Linear Regression R²: 0.36759313425902185\n",
      "Lasso Regression R²: 0.3675999284778446\n",
      "Predicted 2022 Price: INR 743,601.62\n"
     ]
    },
    {
     "name": "stderr",
     "output_type": "stream",
     "text": [
      "C:\\Users\\arjun\\anaconda3\\Lib\\site-packages\\sklearn\\base.py:493: UserWarning: X does not have valid feature names, but LinearRegression was fitted with feature names\n",
      "  warnings.warn(\n"
     ]
    }
   ],
   "source": [
    "# Compare R² scores\n",
    "print(\"Linear Regression R²:\", lr.score(X_test, y_test))\n",
    "print(\"Lasso Regression R²:\", lasso.score(X_test, y_test))\n",
    "\n",
    "# Predict 2022 price\n",
    "price_2022 = lr.predict([[2022]])[0] \n",
    "print(f\"Predicted 2022 Price: INR {price_2022:,.2f}\")"
   ]
  },
  {
   "cell_type": "code",
   "execution_count": null,
   "id": "04abc895-3939-4f8e-8691-f182a3a9ac58",
   "metadata": {},
   "outputs": [],
   "source": []
  }
 ],
 "metadata": {
  "kernelspec": {
   "display_name": "Python [conda env:base] *",
   "language": "python",
   "name": "conda-base-py"
  },
  "language_info": {
   "codemirror_mode": {
    "name": "ipython",
    "version": 3
   },
   "file_extension": ".py",
   "mimetype": "text/x-python",
   "name": "python",
   "nbconvert_exporter": "python",
   "pygments_lexer": "ipython3",
   "version": "3.12.7"
  }
 },
 "nbformat": 4,
 "nbformat_minor": 5
}
